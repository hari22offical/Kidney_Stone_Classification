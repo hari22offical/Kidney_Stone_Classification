{
  "nbformat": 4,
  "nbformat_minor": 0,
  "metadata": {
    "colab": {
      "provenance": [],
      "gpuType": "T4"
    },
    "kernelspec": {
      "name": "python3",
      "display_name": "Python 3"
    },
    "language_info": {
      "name": "python"
    },
    "accelerator": "GPU"
  },
  "cells": [
    {
      "cell_type": "markdown",
      "source": [
        "## Setup\n",
        "Pull in respective libraries to prepare the notebook environment.\n",
        "\n"
      ],
      "metadata": {
        "id": "qLlywmGLZt5A"
      }
    },
    {
      "cell_type": "code",
      "execution_count": null,
      "metadata": {
        "colab": {
          "base_uri": "https://localhost:8080/"
        },
        "id": "SbdAJF0Lm0O6",
        "outputId": "bc1e3a78-49bc-4fa1-ef08-d69e60e1e95d"
      },
      "outputs": [
        {
          "output_type": "stream",
          "name": "stderr",
          "text": [
            "YOLOv5 🚀 v7.0-188-gd19439a Python-3.10.12 torch-2.0.1+cu118 CUDA:0 (Tesla T4, 15102MiB)\n"
          ]
        },
        {
          "output_type": "stream",
          "name": "stdout",
          "text": [
            "Setup complete ✅ (2 CPUs, 12.7 GB RAM, 24.2/78.2 GB disk)\n"
          ]
        }
      ],
      "source": [
        "!git clone https://github.com/ultralytics/yolov5  # clone\n",
        "%cd yolov5\n",
        "%pip install -qr requirements.txt  # install\n",
        "\n",
        "import torch\n",
        "import utils\n",
        "display = utils.notebook_init()  # checks"
      ]
    },
    {
      "cell_type": "code",
      "source": [
        "# Ensure we're in the right directory to download our custom dataset\n",
        "import os\n",
        "os.makedirs(\"../datasets/\", exist_ok=True)\n",
        "%cd ../datasets/"
      ],
      "metadata": {
        "colab": {
          "base_uri": "https://localhost:8080/"
        },
        "id": "u2h5RQyCnx2C",
        "outputId": "68913092-4295-489b-9b8e-fc20205c1836"
      },
      "execution_count": null,
      "outputs": [
        {
          "output_type": "stream",
          "name": "stdout",
          "text": [
            "/content/datasets\n"
          ]
        }
      ]
    },
    {
      "cell_type": "markdown",
      "source": [
        "### Load Custom Dataset\n",
        "\n",
        "Next, we'll export our dataset into the right directory structure for training YOLOv5 classification to load into this notebook. Select the `Export` button at the top of the version page, `Folder Structure` type, and `show download code`.\n",
        "\n",
        "The ensures all our directories are in the right format:\n",
        "\n",
        "```\n",
        "dataset\n",
        "├── train\n",
        "│   ├── class-one\n",
        "│   │   ├── IMG_123.jpg\n",
        "│   └── class-two\n",
        "│       ├── IMG_456.jpg\n",
        "├── valid\n",
        "│   ├── class-one\n",
        "│   │   ├── IMG_789.jpg\n",
        "│   └── class-two\n",
        "│       ├── IMG_101.jpg\n",
        "├── test\n",
        "│   ├── class-one\n",
        "│   │   ├── IMG_121.jpg\n",
        "│   └── class-two\n",
        "│       ├── IMG_341.jpg\n",
        "```\n",
        "![](https://i.imgur.com/BF9BNR8.gif)\n",
        "\n",
        "\n",
        "Copy and paste that snippet into the cell below."
      ],
      "metadata": {
        "id": "eouSDUNiZ2hW"
      }
    },
    {
      "cell_type": "code",
      "source": [
        "!pip install roboflow\n",
        "\n",
        "from roboflow import Roboflow\n",
        "rf = Roboflow(api_key=\"VFQrSXI3PXI5ppUKRxg3\")\n",
        "project = rf.workspace(\"hari-narayanan\").project(\"kidney-stone-classifiacation\")\n",
        "dataset = project.version(1).download(\"folder\")"
      ],
      "metadata": {
        "colab": {
          "base_uri": "https://localhost:8080/",
          "height": 1000
        },
        "id": "hwUALyZKoPcI",
        "outputId": "cee2bb01-7b29-487d-a7fe-b7b907f0793e"
      },
      "execution_count": null,
      "outputs": [
        {
          "output_type": "stream",
          "name": "stdout",
          "text": [
            "Collecting roboflow\n",
            "  Downloading roboflow-1.1.0-py3-none-any.whl (57 kB)\n",
            "\u001b[?25l     \u001b[90m━━━━━━━━━━━━━━━━━━━━━━━━━━━━━━━━━━━━━━━━\u001b[0m \u001b[32m0.0/57.0 kB\u001b[0m \u001b[31m?\u001b[0m eta \u001b[36m-:--:--\u001b[0m\r\u001b[2K     \u001b[90m━━━━━━━━━━━━━━━━━━━━━━━━━━━━━━━━━━━━━━━━\u001b[0m \u001b[32m57.0/57.0 kB\u001b[0m \u001b[31m6.9 MB/s\u001b[0m eta \u001b[36m0:00:00\u001b[0m\n",
            "\u001b[?25hCollecting certifi==2022.12.7 (from roboflow)\n",
            "  Downloading certifi-2022.12.7-py3-none-any.whl (155 kB)\n",
            "\u001b[?25l     \u001b[90m━━━━━━━━━━━━━━━━━━━━━━━━━━━━━━━━━━━━━━━━\u001b[0m \u001b[32m0.0/155.3 kB\u001b[0m \u001b[31m?\u001b[0m eta \u001b[36m-:--:--\u001b[0m\r\u001b[2K     \u001b[90m━━━━━━━━━━━━━━━━━━━━━━━━━━━━━━━━━━━━━━\u001b[0m \u001b[32m155.3/155.3 kB\u001b[0m \u001b[31m20.9 MB/s\u001b[0m eta \u001b[36m0:00:00\u001b[0m\n",
            "\u001b[?25hRequirement already satisfied: chardet==4.0.0 in /usr/local/lib/python3.10/dist-packages (from roboflow) (4.0.0)\n",
            "Collecting cycler==0.10.0 (from roboflow)\n",
            "  Downloading cycler-0.10.0-py2.py3-none-any.whl (6.5 kB)\n",
            "Collecting idna==2.10 (from roboflow)\n",
            "  Downloading idna-2.10-py2.py3-none-any.whl (58 kB)\n",
            "\u001b[2K     \u001b[90m━━━━━━━━━━━━━━━━━━━━━━━━━━━━━━━━━━━━━━━━\u001b[0m \u001b[32m58.8/58.8 kB\u001b[0m \u001b[31m6.5 MB/s\u001b[0m eta \u001b[36m0:00:00\u001b[0m\n",
            "\u001b[?25hRequirement already satisfied: kiwisolver>=1.3.1 in /usr/local/lib/python3.10/dist-packages (from roboflow) (1.4.4)\n",
            "Requirement already satisfied: matplotlib in /usr/local/lib/python3.10/dist-packages (from roboflow) (3.7.1)\n",
            "Requirement already satisfied: numpy>=1.18.5 in /usr/local/lib/python3.10/dist-packages (from roboflow) (1.22.4)\n",
            "Requirement already satisfied: opencv-python>=4.1.2 in /usr/local/lib/python3.10/dist-packages (from roboflow) (4.7.0.72)\n",
            "Requirement already satisfied: Pillow>=7.1.2 in /usr/local/lib/python3.10/dist-packages (from roboflow) (8.4.0)\n",
            "Collecting pyparsing==2.4.7 (from roboflow)\n",
            "  Downloading pyparsing-2.4.7-py2.py3-none-any.whl (67 kB)\n",
            "\u001b[2K     \u001b[90m━━━━━━━━━━━━━━━━━━━━━━━━━━━━━━━━━━━━━━━━\u001b[0m \u001b[32m67.8/67.8 kB\u001b[0m \u001b[31m8.4 MB/s\u001b[0m eta \u001b[36m0:00:00\u001b[0m\n",
            "\u001b[?25hRequirement already satisfied: python-dateutil in /usr/local/lib/python3.10/dist-packages (from roboflow) (2.8.2)\n",
            "Collecting python-dotenv (from roboflow)\n",
            "  Downloading python_dotenv-1.0.0-py3-none-any.whl (19 kB)\n",
            "Requirement already satisfied: requests in /usr/local/lib/python3.10/dist-packages (from roboflow) (2.27.1)\n",
            "Requirement already satisfied: six in /usr/local/lib/python3.10/dist-packages (from roboflow) (1.16.0)\n",
            "Collecting supervision (from roboflow)\n",
            "  Downloading supervision-0.11.1-py3-none-any.whl (55 kB)\n",
            "\u001b[2K     \u001b[90m━━━━━━━━━━━━━━━━━━━━━━━━━━━━━━━━━━━━━━━━\u001b[0m \u001b[32m55.6/55.6 kB\u001b[0m \u001b[31m7.9 MB/s\u001b[0m eta \u001b[36m0:00:00\u001b[0m\n",
            "\u001b[?25hRequirement already satisfied: urllib3>=1.26.6 in /usr/local/lib/python3.10/dist-packages (from roboflow) (1.26.16)\n",
            "Collecting wget (from roboflow)\n",
            "  Downloading wget-3.2.zip (10 kB)\n",
            "  Preparing metadata (setup.py) ... \u001b[?25l\u001b[?25hdone\n",
            "Requirement already satisfied: tqdm>=4.41.0 in /usr/local/lib/python3.10/dist-packages (from roboflow) (4.65.0)\n",
            "Requirement already satisfied: PyYAML>=5.3.1 in /usr/local/lib/python3.10/dist-packages (from roboflow) (6.0)\n",
            "Collecting requests-toolbelt (from roboflow)\n",
            "  Downloading requests_toolbelt-1.0.0-py2.py3-none-any.whl (54 kB)\n",
            "\u001b[2K     \u001b[90m━━━━━━━━━━━━━━━━━━━━━━━━━━━━━━━━━━━━━━━━\u001b[0m \u001b[32m54.5/54.5 kB\u001b[0m \u001b[31m7.7 MB/s\u001b[0m eta \u001b[36m0:00:00\u001b[0m\n",
            "\u001b[?25hRequirement already satisfied: contourpy>=1.0.1 in /usr/local/lib/python3.10/dist-packages (from matplotlib->roboflow) (1.1.0)\n",
            "Requirement already satisfied: fonttools>=4.22.0 in /usr/local/lib/python3.10/dist-packages (from matplotlib->roboflow) (4.40.0)\n",
            "Requirement already satisfied: packaging>=20.0 in /usr/local/lib/python3.10/dist-packages (from matplotlib->roboflow) (23.1)\n",
            "Requirement already satisfied: charset-normalizer~=2.0.0 in /usr/local/lib/python3.10/dist-packages (from requests->roboflow) (2.0.12)\n",
            "Building wheels for collected packages: wget\n",
            "  Building wheel for wget (setup.py) ... \u001b[?25l\u001b[?25hdone\n",
            "  Created wheel for wget: filename=wget-3.2-py3-none-any.whl size=9657 sha256=bff7db0a960dc8b6018f883f63389a85531e4b3d39c7b8a2f52ea3908984802f\n",
            "  Stored in directory: /root/.cache/pip/wheels/8b/f1/7f/5c94f0a7a505ca1c81cd1d9208ae2064675d97582078e6c769\n",
            "Successfully built wget\n",
            "Installing collected packages: wget, python-dotenv, pyparsing, idna, cycler, certifi, supervision, requests-toolbelt, roboflow\n",
            "  Attempting uninstall: pyparsing\n",
            "    Found existing installation: pyparsing 3.1.0\n",
            "    Uninstalling pyparsing-3.1.0:\n",
            "      Successfully uninstalled pyparsing-3.1.0\n",
            "  Attempting uninstall: idna\n",
            "    Found existing installation: idna 3.4\n",
            "    Uninstalling idna-3.4:\n",
            "      Successfully uninstalled idna-3.4\n",
            "  Attempting uninstall: cycler\n",
            "    Found existing installation: cycler 0.11.0\n",
            "    Uninstalling cycler-0.11.0:\n",
            "      Successfully uninstalled cycler-0.11.0\n",
            "  Attempting uninstall: certifi\n",
            "    Found existing installation: certifi 2023.5.7\n",
            "    Uninstalling certifi-2023.5.7:\n",
            "      Successfully uninstalled certifi-2023.5.7\n",
            "Successfully installed certifi-2022.12.7 cycler-0.10.0 idna-2.10 pyparsing-2.4.7 python-dotenv-1.0.0 requests-toolbelt-1.0.0 roboflow-1.1.0 supervision-0.11.1 wget-3.2\n"
          ]
        },
        {
          "output_type": "display_data",
          "data": {
            "application/vnd.colab-display-data+json": {
              "pip_warning": {
                "packages": [
                  "certifi",
                  "cycler",
                  "idna",
                  "pyparsing"
                ]
              }
            }
          },
          "metadata": {}
        },
        {
          "output_type": "stream",
          "name": "stdout",
          "text": [
            "loading Roboflow workspace...\n",
            "loading Roboflow project...\n",
            "Downloading Dataset Version Zip in kidney-stone-classifiacation-1 to folder: 96% [39288832 / 40873707] bytes"
          ]
        },
        {
          "output_type": "stream",
          "name": "stderr",
          "text": [
            "Extracting Dataset Version Zip to kidney-stone-classifiacation-1 in folder:: 100%|██████████| 1610/1610 [00:00<00:00, 2514.64it/s]\n"
          ]
        }
      ]
    },
    {
      "cell_type": "code",
      "source": [
        "#Save the dataset name to the environment so we can use it in a system call later\n",
        "dataset_name = dataset.location.split(os.sep)[-1]\n",
        "os.environ[\"DATASET_NAME\"] = dataset_name"
      ],
      "metadata": {
        "id": "cno633hMoWA2"
      },
      "execution_count": null,
      "outputs": []
    },
    {
      "cell_type": "markdown",
      "source": [
        "## Train On Custom Data 🎉\n",
        "Here, we use the DATASET_NAME environment variable to pass our dataset to the --data parameter.\n",
        "\n",
        "Note: we're training for 100 epochs here. We're also starting training from the pretrained weights. Larger datasets will likely benefit from longer training."
      ],
      "metadata": {
        "id": "Uj5Qx_YmaG0y"
      }
    },
    {
      "cell_type": "code",
      "source": [
        "%cd ../yolov5\n",
        "!python classify/train.py --model yolov5s-cls.pt --data $DATASET_NAME --epochs 100 --img 128 --pretrained weights/yolov5s-cls.pt"
      ],
      "metadata": {
        "colab": {
          "base_uri": "https://localhost:8080/"
        },
        "id": "PiwxBAHvo16o",
        "outputId": "9b6b36e7-29fc-47fa-dcfe-bac0da916551"
      },
      "execution_count": null,
      "outputs": [
        {
          "output_type": "stream",
          "name": "stdout",
          "text": [
            "/content/yolov5\n",
            "\u001b[34m\u001b[1mclassify/train: \u001b[0mmodel=yolov5s-cls.pt, data=kidney-stone-classifiacation-1, epochs=100, batch_size=64, imgsz=128, nosave=False, cache=None, device=, workers=8, project=runs/train-cls, name=exp, exist_ok=False, pretrained=weights/yolov5s-cls.pt, optimizer=Adam, lr0=0.001, decay=5e-05, label_smoothing=0.1, cutoff=None, dropout=None, verbose=False, seed=0, local_rank=-1\n",
            "\u001b[34m\u001b[1mgithub: \u001b[0mup to date with https://github.com/ultralytics/yolov5 ✅\n",
            "YOLOv5 🚀 v7.0-188-gd19439a Python-3.10.12 torch-2.0.1+cu118 CUDA:0 (Tesla T4, 15102MiB)\n",
            "\n",
            "\u001b[34m\u001b[1mTensorBoard: \u001b[0mStart with 'tensorboard --logdir runs/train-cls', view at http://localhost:6006/\n",
            "\u001b[34m\u001b[1malbumentations: \u001b[0mRandomResizedCrop(p=1.0, height=128, width=128, scale=(0.08, 1.0), ratio=(0.75, 1.3333333333333333), interpolation=1), HorizontalFlip(p=0.5), ColorJitter(p=0.5, brightness=[0.6, 1.4], contrast=[0.6, 1.4], saturation=[0.6, 1.4], hue=[0, 0]), Normalize(p=1.0, mean=(0.485, 0.456, 0.406), std=(0.229, 0.224, 0.225), max_pixel_value=255.0), ToTensorV2(always_apply=True, p=1.0, transpose_mask=False)\n",
            "Downloading https://github.com/ultralytics/yolov5/releases/download/v7.0/yolov5s-cls.pt to yolov5s-cls.pt...\n",
            "100% 10.5M/10.5M [00:00<00:00, 18.9MB/s]\n",
            "\n",
            "Model summary: 149 layers, 4175042 parameters, 4175042 gradients, 10.5 GFLOPs\n",
            "\u001b[34m\u001b[1moptimizer:\u001b[0m Adam(lr=0.001) with parameter groups 32 weight(decay=0.0), 33 weight(decay=5e-05), 33 bias\n",
            "Image sizes 128 train, 128 test\n",
            "Using 1 dataloader workers\n",
            "Logging results to \u001b[1mruns/train-cls/exp\u001b[0m\n",
            "Starting yolov5s-cls.pt training on kidney-stone-classifiacation-1 dataset with 2 classes for 100 epochs...\n",
            "\n",
            "     Epoch   GPU_mem  train_loss   test_loss    top1_acc    top5_acc\n",
            "     1/100    0.734G       0.633       0.493       0.819           1: 100% 18/18 [00:07<00:00,  2.49it/s]\n",
            "     2/100    0.734G       0.553       0.516       0.819           1: 100% 18/18 [00:07<00:00,  2.49it/s]\n",
            "     3/100    0.734G       0.548       0.535       0.819           1: 100% 18/18 [00:06<00:00,  2.86it/s]\n",
            "     4/100    0.734G        0.55       0.504       0.819           1: 100% 18/18 [00:07<00:00,  2.42it/s]\n",
            "     5/100    0.734G       0.566       0.516       0.819           1: 100% 18/18 [00:06<00:00,  2.83it/s]\n",
            "     6/100    0.734G       0.533       0.501       0.819           1: 100% 18/18 [00:07<00:00,  2.38it/s]\n",
            "     7/100    0.734G       0.549       0.511       0.819           1: 100% 18/18 [00:06<00:00,  2.73it/s]\n",
            "     8/100    0.734G       0.526       0.485       0.819           1: 100% 18/18 [00:07<00:00,  2.41it/s]\n",
            "     9/100    0.734G       0.546       0.488       0.819           1: 100% 18/18 [00:07<00:00,  2.41it/s]\n",
            "    10/100    0.734G       0.517       0.519       0.819           1: 100% 18/18 [00:06<00:00,  2.84it/s]\n",
            "    11/100    0.734G       0.539       0.504       0.823           1: 100% 18/18 [00:07<00:00,  2.42it/s]\n",
            "    12/100    0.734G       0.518        1.53       0.229           1: 100% 18/18 [00:06<00:00,  2.78it/s]\n",
            "    13/100    0.734G       0.534       0.603       0.785           1: 100% 18/18 [00:07<00:00,  2.39it/s]\n",
            "    14/100    0.734G       0.521       0.655       0.655           1: 100% 18/18 [00:06<00:00,  2.83it/s]\n",
            "    15/100    0.734G       0.527       0.614       0.734           1: 100% 18/18 [00:07<00:00,  2.34it/s]\n",
            "    16/100    0.734G       0.513       0.423       0.823           1: 100% 18/18 [00:06<00:00,  2.77it/s]\n",
            "    17/100    0.734G         0.5       0.473       0.823           1: 100% 18/18 [00:07<00:00,  2.36it/s]\n",
            "    18/100    0.734G       0.502       0.466       0.833           1: 100% 18/18 [00:07<00:00,  2.52it/s]\n",
            "    19/100    0.734G         0.5       0.432       0.823           1: 100% 18/18 [00:06<00:00,  2.73it/s]\n",
            "    20/100    0.734G       0.492       0.716       0.628           1: 100% 18/18 [00:07<00:00,  2.38it/s]\n",
            "    21/100    0.734G        0.51       0.483       0.843           1: 100% 18/18 [00:06<00:00,  2.86it/s]\n",
            "    22/100    0.734G       0.492        0.86       0.553           1: 100% 18/18 [00:07<00:00,  2.41it/s]\n",
            "    23/100    0.734G       0.472       0.493       0.826           1: 100% 18/18 [00:06<00:00,  2.83it/s]\n",
            "    24/100    0.734G       0.488       0.458       0.819           1: 100% 18/18 [00:07<00:00,  2.36it/s]\n",
            "    25/100    0.734G        0.48        0.45       0.826           1: 100% 18/18 [00:06<00:00,  2.83it/s]\n",
            "    26/100    0.734G       0.485       0.444       0.857           1: 100% 18/18 [00:07<00:00,  2.32it/s]\n",
            "    27/100    0.734G        0.46       0.449       0.829           1: 100% 18/18 [00:06<00:00,  2.64it/s]\n",
            "    28/100    0.734G        0.47       0.506       0.816           1: 100% 18/18 [00:07<00:00,  2.52it/s]\n",
            "    29/100    0.734G       0.467       0.501       0.829           1: 100% 18/18 [00:07<00:00,  2.46it/s]\n",
            "    30/100    0.734G       0.452       0.464       0.823           1: 100% 18/18 [00:06<00:00,  2.79it/s]\n",
            "    31/100    0.734G       0.444        0.41       0.853           1: 100% 18/18 [00:07<00:00,  2.34it/s]\n",
            "    32/100    0.734G        0.43       0.469       0.829           1: 100% 18/18 [00:06<00:00,  2.81it/s]\n",
            "    33/100    0.734G       0.437       0.423       0.857           1: 100% 18/18 [00:07<00:00,  2.34it/s]\n",
            "    34/100    0.734G       0.434        0.39        0.87           1: 100% 18/18 [00:06<00:00,  2.84it/s]\n",
            "    35/100    0.734G       0.437        0.52       0.747           1: 100% 18/18 [00:07<00:00,  2.34it/s]\n",
            "    36/100    0.734G       0.445       0.422       0.877           1: 100% 18/18 [00:07<00:00,  2.50it/s]\n",
            "    37/100    0.734G       0.445       0.364       0.908           1: 100% 18/18 [00:06<00:00,  2.66it/s]\n",
            "    38/100    0.734G       0.429       0.514       0.846           1: 100% 18/18 [00:07<00:00,  2.40it/s]\n",
            "    39/100    0.734G       0.438       0.391       0.881           1: 100% 18/18 [00:06<00:00,  2.83it/s]\n",
            "    40/100    0.734G        0.42       0.529       0.775           1: 100% 18/18 [00:07<00:00,  2.37it/s]\n",
            "    41/100    0.734G       0.433       0.414       0.857           1: 100% 18/18 [00:06<00:00,  2.78it/s]\n",
            "    42/100    0.734G       0.411       0.424       0.836           1: 100% 18/18 [00:07<00:00,  2.37it/s]\n",
            "    43/100    0.734G       0.408       0.359       0.894           1: 100% 18/18 [00:06<00:00,  2.81it/s]\n",
            "    44/100    0.734G       0.425        0.39       0.881           1: 100% 18/18 [00:07<00:00,  2.25it/s]\n",
            "    45/100    0.734G       0.402       0.369       0.904           1: 100% 18/18 [00:07<00:00,  2.53it/s]\n",
            "    46/100    0.734G        0.41        0.39       0.901           1: 100% 18/18 [00:06<00:00,  2.58it/s]\n",
            "    47/100    0.734G       0.407       0.386       0.881           1: 100% 18/18 [00:07<00:00,  2.40it/s]\n",
            "    48/100    0.734G       0.398       0.369       0.915           1: 100% 18/18 [00:06<00:00,  2.79it/s]\n",
            "    49/100    0.734G       0.406       0.519       0.823           1: 100% 18/18 [00:07<00:00,  2.38it/s]\n",
            "    50/100    0.734G       0.399       0.401       0.877           1: 100% 18/18 [00:06<00:00,  2.81it/s]\n",
            "    51/100    0.734G       0.402       0.397       0.894           1: 100% 18/18 [00:07<00:00,  2.36it/s]\n",
            "    52/100    0.734G       0.382       0.348       0.911           1: 100% 18/18 [00:06<00:00,  2.81it/s]\n",
            "    53/100    0.734G       0.383       0.354       0.925           1: 100% 18/18 [00:08<00:00,  2.22it/s]\n",
            "    54/100    0.734G       0.376       0.365       0.918           1: 100% 18/18 [00:07<00:00,  2.46it/s]\n",
            "    55/100    0.734G       0.384       0.342       0.918           1: 100% 18/18 [00:06<00:00,  2.69it/s]\n",
            "    56/100    0.734G       0.371       0.341       0.918           1: 100% 18/18 [00:07<00:00,  2.36it/s]\n",
            "    57/100    0.734G        0.38       0.356       0.891           1: 100% 18/18 [00:06<00:00,  2.83it/s]\n",
            "    58/100    0.734G       0.357        0.34       0.911           1: 100% 18/18 [00:07<00:00,  2.34it/s]\n",
            "    59/100    0.734G       0.363       0.339       0.939           1: 100% 18/18 [00:06<00:00,  2.84it/s]\n",
            "    60/100    0.734G       0.404        0.37       0.908           1: 100% 18/18 [00:07<00:00,  2.37it/s]\n",
            "    61/100    0.734G       0.344       0.306       0.949           1: 100% 18/18 [00:06<00:00,  2.85it/s]\n",
            "    62/100    0.734G       0.356       0.333       0.918           1: 100% 18/18 [00:07<00:00,  2.31it/s]\n",
            "    63/100    0.734G       0.363       0.304       0.932           1: 100% 18/18 [00:07<00:00,  2.46it/s]\n",
            "    64/100    0.734G        0.36       0.354       0.901           1: 100% 18/18 [00:06<00:00,  2.69it/s]\n",
            "    65/100    0.734G       0.368       0.308       0.945           1: 100% 18/18 [00:07<00:00,  2.38it/s]\n",
            "    66/100    0.734G       0.374       0.338       0.915           1: 100% 18/18 [00:06<00:00,  2.83it/s]\n",
            "    67/100    0.734G       0.361       0.344       0.925           1: 100% 18/18 [00:07<00:00,  2.36it/s]\n",
            "    68/100    0.734G       0.351       0.344       0.928           1: 100% 18/18 [00:06<00:00,  2.82it/s]\n",
            "    69/100    0.734G        0.38       0.325       0.935           1: 100% 18/18 [00:07<00:00,  2.36it/s]\n",
            "    70/100    0.734G       0.372       0.346       0.925           1: 100% 18/18 [00:06<00:00,  2.83it/s]\n",
            "    71/100    0.734G        0.35       0.337       0.925           1: 100% 18/18 [00:07<00:00,  2.31it/s]\n",
            "    72/100    0.734G       0.361        0.31       0.925           1: 100% 18/18 [00:06<00:00,  2.65it/s]\n",
            "    73/100    0.734G       0.363       0.359       0.915           1: 100% 18/18 [00:07<00:00,  2.51it/s]\n",
            "    74/100    0.734G       0.344       0.304       0.939           1: 100% 18/18 [00:07<00:00,  2.38it/s]\n",
            "    75/100    0.734G       0.357       0.339       0.918           1: 100% 18/18 [00:06<00:00,  2.83it/s]\n",
            "    76/100    0.734G       0.348       0.316       0.932           1: 100% 18/18 [00:07<00:00,  2.39it/s]\n",
            "    77/100    0.734G       0.343       0.328       0.949           1: 100% 18/18 [00:06<00:00,  2.85it/s]\n",
            "    78/100    0.734G       0.343       0.306       0.939           1: 100% 18/18 [00:07<00:00,  2.38it/s]\n",
            "    79/100    0.734G       0.333       0.333       0.928           1: 100% 18/18 [00:06<00:00,  2.80it/s]\n",
            "    80/100    0.734G       0.344        0.32       0.939           1: 100% 18/18 [00:07<00:00,  2.39it/s]\n",
            "    81/100    0.734G       0.341       0.304       0.945           1: 100% 18/18 [00:06<00:00,  2.76it/s]\n",
            "    82/100    0.734G       0.329       0.291       0.935           1: 100% 18/18 [00:07<00:00,  2.38it/s]\n",
            "    83/100    0.734G       0.352       0.314       0.956           1: 100% 18/18 [00:07<00:00,  2.45it/s]\n",
            "    84/100    0.734G       0.337       0.305       0.939           1: 100% 18/18 [00:06<00:00,  2.77it/s]\n",
            "    85/100    0.734G       0.326       0.304       0.945           1: 100% 18/18 [00:07<00:00,  2.47it/s]\n",
            "    86/100    0.734G       0.325       0.276       0.952           1: 100% 18/18 [00:06<00:00,  2.84it/s]\n",
            "    87/100    0.734G       0.326       0.316       0.949           1: 100% 18/18 [00:07<00:00,  2.37it/s]\n",
            "    88/100    0.734G       0.344       0.291       0.949           1: 100% 18/18 [00:06<00:00,  2.83it/s]\n",
            "    89/100    0.734G       0.328       0.306       0.939           1: 100% 18/18 [00:07<00:00,  2.34it/s]\n",
            "    90/100    0.734G       0.328       0.317       0.939           1: 100% 18/18 [00:06<00:00,  2.79it/s]\n",
            "    91/100    0.734G        0.34       0.288       0.942           1: 100% 18/18 [00:07<00:00,  2.34it/s]\n",
            "    92/100    0.734G       0.315       0.297       0.949           1: 100% 18/18 [00:07<00:00,  2.43it/s]\n",
            "    93/100    0.734G       0.341       0.294       0.945           1: 100% 18/18 [00:06<00:00,  2.71it/s]\n",
            "    94/100    0.734G       0.322       0.296       0.942           1: 100% 18/18 [00:07<00:00,  2.39it/s]\n",
            "    95/100    0.734G       0.326       0.293       0.945           1: 100% 18/18 [00:06<00:00,  2.82it/s]\n",
            "    96/100    0.734G       0.325       0.303       0.949           1: 100% 18/18 [00:07<00:00,  2.34it/s]\n",
            "    97/100    0.734G       0.318       0.284       0.945           1: 100% 18/18 [00:06<00:00,  2.80it/s]\n",
            "    98/100    0.734G       0.327       0.309       0.945           1: 100% 18/18 [00:07<00:00,  2.37it/s]\n",
            "    99/100    0.734G       0.325         0.3       0.942           1: 100% 18/18 [00:06<00:00,  2.87it/s]\n",
            "   100/100    0.734G       0.334       0.291       0.952           1: 100% 18/18 [00:07<00:00,  2.29it/s]\n",
            "\n",
            "Training complete (0.202 hours)\n",
            "Results saved to \u001b[1mruns/train-cls/exp\u001b[0m\n",
            "Predict:         python classify/predict.py --weights runs/train-cls/exp/weights/best.pt --source im.jpg\n",
            "Validate:        python classify/val.py --weights runs/train-cls/exp/weights/best.pt --data /content/datasets/kidney-stone-classifiacation-1\n",
            "Export:          python export.py --weights runs/train-cls/exp/weights/best.pt --include onnx\n",
            "PyTorch Hub:     model = torch.hub.load('ultralytics/yolov5', 'custom', 'runs/train-cls/exp/weights/best.pt')\n",
            "Visualize:       https://netron.app\n",
            "\n"
          ]
        }
      ]
    },
    {
      "cell_type": "markdown",
      "source": [
        "## Validate Your Custom Model\n",
        "Repeat step 2 from above to test and validate your custom model."
      ],
      "metadata": {
        "id": "SnN9SssAaLVa"
      }
    },
    {
      "cell_type": "code",
      "source": [
        "!python classify/val.py --weights runs/train-cls/exp/weights/best.pt --data ../datasets/$DATASET_NAME"
      ],
      "metadata": {
        "colab": {
          "base_uri": "https://localhost:8080/"
        },
        "id": "onQxN0cEo10T",
        "outputId": "0b290911-52a0-4325-ae1e-24fe5bedf7b1"
      },
      "execution_count": null,
      "outputs": [
        {
          "output_type": "stream",
          "name": "stdout",
          "text": [
            "\u001b[34m\u001b[1mclassify/val: \u001b[0mdata=../datasets/kidney-stone-classifiacation-1, weights=['runs/train-cls/exp/weights/best.pt'], batch_size=128, imgsz=224, device=, workers=8, verbose=True, project=runs/val-cls, name=exp, exist_ok=False, half=False, dnn=False\n",
            "YOLOv5 🚀 v7.0-188-gd19439a Python-3.10.12 torch-2.0.1+cu118 CUDA:0 (Tesla T4, 15102MiB)\n",
            "\n",
            "Fusing layers... \n",
            "Model summary: 117 layers, 4169250 parameters, 0 gradients, 10.4 GFLOPs\n",
            "testing: 100% 3/3 [00:01<00:00,  1.51it/s]\n",
            "                   Class      Images    top1_acc    top5_acc\n",
            "                     all         293       0.942           1\n",
            "            kidney-stone         240       0.979           1\n",
            "           normal kidney          53       0.774           1\n",
            "Speed: 0.1ms pre-process, 2.4ms inference, 0.3ms post-process per image at shape (1, 3, 224, 224)\n",
            "Results saved to \u001b[1mruns/val-cls/exp\u001b[0m\n"
          ]
        }
      ]
    },
    {
      "cell_type": "markdown",
      "source": [
        "# saving the modelin drive"
      ],
      "metadata": {
        "id": "51OR8jg1aPzo"
      }
    },
    {
      "cell_type": "code",
      "source": [
        "!cp -r \"/content/yolov5/runs/train-cls/exp\" \"/content/drive/MyDrive/kidney stone classification\""
      ],
      "metadata": {
        "id": "J-Yl7-iZo1wv"
      },
      "execution_count": null,
      "outputs": []
    }
  ]
}